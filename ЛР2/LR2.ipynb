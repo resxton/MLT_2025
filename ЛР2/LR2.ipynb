{
 "cells": [
  {
   "cell_type": "code",
   "execution_count": 482,
   "id": "fc045480-4fd0-4282-8878-b3e00120c5de",
   "metadata": {},
   "outputs": [],
   "source": [
    "import numpy as np\n",
    "import pandas as pd\n",
    "import seaborn as sns\n",
    "import matplotlib.pyplot as plt\n",
    "%matplotlib inline \n",
    "sns.set(style=\"ticks\")"
   ]
  },
  {
   "cell_type": "markdown",
   "id": "412269e6-3bcb-481a-96d9-f1550eedc3af",
   "metadata": {},
   "source": [
    "# Загрузка и первичный анализ данных"
   ]
  },
  {
   "cell_type": "code",
   "execution_count": 484,
   "id": "dbefaf38-7461-4425-9484-9cce8c1496fa",
   "metadata": {},
   "outputs": [
    {
     "name": "stdout",
     "output_type": "stream",
     "text": [
      "  Country name  year  Life Ladder  Log GDP per capita  Social support  \\\n",
      "0  Afghanistan  2008     3.723590            7.350416        0.450662   \n",
      "1  Afghanistan  2009     4.401778            7.508646        0.552308   \n",
      "2  Afghanistan  2010     4.758381            7.613900        0.539075   \n",
      "3  Afghanistan  2011     3.831719            7.581259        0.521104   \n",
      "4  Afghanistan  2012     3.782938            7.660506        0.520637   \n",
      "\n",
      "   Healthy life expectancy at birth  Freedom to make life choices  Generosity  \\\n",
      "0                         50.500000                      0.718114    0.164055   \n",
      "1                         50.799999                      0.678896    0.187297   \n",
      "2                         51.099998                      0.600127    0.117861   \n",
      "3                         51.400002                      0.495901    0.160098   \n",
      "4                         51.700001                      0.530935    0.234157   \n",
      "\n",
      "   Perceptions of corruption  Positive affect  Negative affect  \n",
      "0                   0.881686         0.414297         0.258195  \n",
      "1                   0.850035         0.481421         0.237092  \n",
      "2                   0.706766         0.516907         0.275324  \n",
      "3                   0.731109         0.479835         0.267175  \n",
      "4                   0.775620         0.613513         0.267919  \n"
     ]
    }
   ],
   "source": [
    "data = pd.read_csv('happiness.csv', sep=\",\")\n",
    "\n",
    "# Просмотр первых 5 строк датасета\n",
    "print(data.head())"
   ]
  },
  {
   "cell_type": "code",
   "execution_count": 485,
   "id": "d98a3ac2-13f0-40b0-b9e4-842eb4cf1766",
   "metadata": {},
   "outputs": [
    {
     "data": {
      "text/plain": [
       "(2363, 11)"
      ]
     },
     "execution_count": 485,
     "metadata": {},
     "output_type": "execute_result"
    }
   ],
   "source": [
    "data.shape"
   ]
  },
  {
   "cell_type": "code",
   "execution_count": 486,
   "id": "8ddc9c33-b492-4fad-a179-b111a771cda8",
   "metadata": {},
   "outputs": [
    {
     "data": {
      "text/plain": [
       "Country name                         object\n",
       "year                                  int64\n",
       "Life Ladder                         float64\n",
       "Log GDP per capita                  float64\n",
       "Social support                      float64\n",
       "Healthy life expectancy at birth    float64\n",
       "Freedom to make life choices        float64\n",
       "Generosity                          float64\n",
       "Perceptions of corruption           float64\n",
       "Positive affect                     float64\n",
       "Negative affect                     float64\n",
       "dtype: object"
      ]
     },
     "execution_count": 486,
     "metadata": {},
     "output_type": "execute_result"
    }
   ],
   "source": [
    "data.dtypes"
   ]
  },
  {
   "cell_type": "code",
   "execution_count": 487,
   "id": "1021d4e5-803a-4171-9e59-5705448d66d6",
   "metadata": {},
   "outputs": [
    {
     "data": {
      "text/plain": [
       "Country name                          0\n",
       "year                                  0\n",
       "Life Ladder                           0\n",
       "Log GDP per capita                   28\n",
       "Social support                       13\n",
       "Healthy life expectancy at birth     63\n",
       "Freedom to make life choices         36\n",
       "Generosity                           81\n",
       "Perceptions of corruption           125\n",
       "Positive affect                      24\n",
       "Negative affect                      16\n",
       "dtype: int64"
      ]
     },
     "execution_count": 487,
     "metadata": {},
     "output_type": "execute_result"
    }
   ],
   "source": [
    "data.isnull().sum()"
   ]
  },
  {
   "cell_type": "markdown",
   "id": "f17041a2-7cd1-4792-813c-e0e81ef0041a",
   "metadata": {},
   "source": [
    "# Обработка пропусков в данных"
   ]
  },
  {
   "cell_type": "code",
   "execution_count": 489,
   "id": "78b3991d-a694-4bd6-92fc-a90a1802b60d",
   "metadata": {},
   "outputs": [
    {
     "data": {
      "text/plain": [
       "((2363, 11), (2363, 3))"
      ]
     },
     "execution_count": 489,
     "metadata": {},
     "output_type": "execute_result"
    }
   ],
   "source": [
    "data_new_1 = data.dropna(axis=1, how='any') # удалили столбцы\n",
    "(data.shape, data_new_1.shape)"
   ]
  },
  {
   "cell_type": "code",
   "execution_count": 490,
   "id": "57bf194f-ad23-4500-bffb-aa95a4de21a2",
   "metadata": {},
   "outputs": [
    {
     "data": {
      "text/plain": [
       "((2363, 11), (2097, 11))"
      ]
     },
     "execution_count": 490,
     "metadata": {},
     "output_type": "execute_result"
    }
   ],
   "source": [
    "data_new_2 = data.dropna(axis=0, how='any') # удалили строки\n",
    "(data.shape, data_new_2.shape)"
   ]
  },
  {
   "cell_type": "code",
   "execution_count": 491,
   "id": "13837fd6-13da-440f-821f-bf030cd428dc",
   "metadata": {},
   "outputs": [
    {
     "data": {
      "text/html": [
       "<div>\n",
       "<style scoped>\n",
       "    .dataframe tbody tr th:only-of-type {\n",
       "        vertical-align: middle;\n",
       "    }\n",
       "\n",
       "    .dataframe tbody tr th {\n",
       "        vertical-align: top;\n",
       "    }\n",
       "\n",
       "    .dataframe thead th {\n",
       "        text-align: right;\n",
       "    }\n",
       "</style>\n",
       "<table border=\"1\" class=\"dataframe\">\n",
       "  <thead>\n",
       "    <tr style=\"text-align: right;\">\n",
       "      <th></th>\n",
       "      <th>Country name</th>\n",
       "      <th>year</th>\n",
       "      <th>Life Ladder</th>\n",
       "      <th>Log GDP per capita</th>\n",
       "      <th>Social support</th>\n",
       "      <th>Healthy life expectancy at birth</th>\n",
       "      <th>Freedom to make life choices</th>\n",
       "      <th>Generosity</th>\n",
       "      <th>Perceptions of corruption</th>\n",
       "      <th>Positive affect</th>\n",
       "      <th>Negative affect</th>\n",
       "    </tr>\n",
       "  </thead>\n",
       "  <tbody>\n",
       "    <tr>\n",
       "      <th>0</th>\n",
       "      <td>Afghanistan</td>\n",
       "      <td>2008</td>\n",
       "      <td>3.723590</td>\n",
       "      <td>7.350416</td>\n",
       "      <td>0.450662</td>\n",
       "      <td>50.500000</td>\n",
       "      <td>0.718114</td>\n",
       "      <td>0.164055</td>\n",
       "      <td>0.881686</td>\n",
       "      <td>0.414297</td>\n",
       "      <td>0.258195</td>\n",
       "    </tr>\n",
       "    <tr>\n",
       "      <th>1</th>\n",
       "      <td>Afghanistan</td>\n",
       "      <td>2009</td>\n",
       "      <td>4.401778</td>\n",
       "      <td>7.508646</td>\n",
       "      <td>0.552308</td>\n",
       "      <td>50.799999</td>\n",
       "      <td>0.678896</td>\n",
       "      <td>0.187297</td>\n",
       "      <td>0.850035</td>\n",
       "      <td>0.481421</td>\n",
       "      <td>0.237092</td>\n",
       "    </tr>\n",
       "    <tr>\n",
       "      <th>2</th>\n",
       "      <td>Afghanistan</td>\n",
       "      <td>2010</td>\n",
       "      <td>4.758381</td>\n",
       "      <td>7.613900</td>\n",
       "      <td>0.539075</td>\n",
       "      <td>51.099998</td>\n",
       "      <td>0.600127</td>\n",
       "      <td>0.117861</td>\n",
       "      <td>0.706766</td>\n",
       "      <td>0.516907</td>\n",
       "      <td>0.275324</td>\n",
       "    </tr>\n",
       "    <tr>\n",
       "      <th>3</th>\n",
       "      <td>Afghanistan</td>\n",
       "      <td>2011</td>\n",
       "      <td>3.831719</td>\n",
       "      <td>7.581259</td>\n",
       "      <td>0.521104</td>\n",
       "      <td>51.400002</td>\n",
       "      <td>0.495901</td>\n",
       "      <td>0.160098</td>\n",
       "      <td>0.731109</td>\n",
       "      <td>0.479835</td>\n",
       "      <td>0.267175</td>\n",
       "    </tr>\n",
       "    <tr>\n",
       "      <th>4</th>\n",
       "      <td>Afghanistan</td>\n",
       "      <td>2012</td>\n",
       "      <td>3.782938</td>\n",
       "      <td>7.660506</td>\n",
       "      <td>0.520637</td>\n",
       "      <td>51.700001</td>\n",
       "      <td>0.530935</td>\n",
       "      <td>0.234157</td>\n",
       "      <td>0.775620</td>\n",
       "      <td>0.613513</td>\n",
       "      <td>0.267919</td>\n",
       "    </tr>\n",
       "    <tr>\n",
       "      <th>5</th>\n",
       "      <td>Afghanistan</td>\n",
       "      <td>2013</td>\n",
       "      <td>3.572100</td>\n",
       "      <td>7.680333</td>\n",
       "      <td>0.483552</td>\n",
       "      <td>52.000000</td>\n",
       "      <td>0.577955</td>\n",
       "      <td>0.059246</td>\n",
       "      <td>0.823204</td>\n",
       "      <td>0.547417</td>\n",
       "      <td>0.273328</td>\n",
       "    </tr>\n",
       "    <tr>\n",
       "      <th>6</th>\n",
       "      <td>Afghanistan</td>\n",
       "      <td>2014</td>\n",
       "      <td>3.130896</td>\n",
       "      <td>7.670638</td>\n",
       "      <td>0.525568</td>\n",
       "      <td>52.299999</td>\n",
       "      <td>0.508514</td>\n",
       "      <td>0.102330</td>\n",
       "      <td>0.871242</td>\n",
       "      <td>0.491641</td>\n",
       "      <td>0.374861</td>\n",
       "    </tr>\n",
       "    <tr>\n",
       "      <th>7</th>\n",
       "      <td>Afghanistan</td>\n",
       "      <td>2015</td>\n",
       "      <td>3.982855</td>\n",
       "      <td>7.653833</td>\n",
       "      <td>0.528597</td>\n",
       "      <td>52.599998</td>\n",
       "      <td>0.388928</td>\n",
       "      <td>0.078218</td>\n",
       "      <td>0.880638</td>\n",
       "      <td>0.491410</td>\n",
       "      <td>0.339276</td>\n",
       "    </tr>\n",
       "    <tr>\n",
       "      <th>8</th>\n",
       "      <td>Afghanistan</td>\n",
       "      <td>2016</td>\n",
       "      <td>4.220169</td>\n",
       "      <td>7.650370</td>\n",
       "      <td>0.559072</td>\n",
       "      <td>52.924999</td>\n",
       "      <td>0.522566</td>\n",
       "      <td>0.040480</td>\n",
       "      <td>0.793246</td>\n",
       "      <td>0.501409</td>\n",
       "      <td>0.348332</td>\n",
       "    </tr>\n",
       "    <tr>\n",
       "      <th>9</th>\n",
       "      <td>Afghanistan</td>\n",
       "      <td>2017</td>\n",
       "      <td>2.661718</td>\n",
       "      <td>7.647830</td>\n",
       "      <td>0.490880</td>\n",
       "      <td>53.250000</td>\n",
       "      <td>0.427011</td>\n",
       "      <td>-0.122848</td>\n",
       "      <td>0.954393</td>\n",
       "      <td>0.435270</td>\n",
       "      <td>0.371326</td>\n",
       "    </tr>\n",
       "    <tr>\n",
       "      <th>10</th>\n",
       "      <td>Afghanistan</td>\n",
       "      <td>2018</td>\n",
       "      <td>2.694303</td>\n",
       "      <td>7.630801</td>\n",
       "      <td>0.507516</td>\n",
       "      <td>53.575001</td>\n",
       "      <td>0.373536</td>\n",
       "      <td>-0.094552</td>\n",
       "      <td>0.927606</td>\n",
       "      <td>0.384561</td>\n",
       "      <td>0.404904</td>\n",
       "    </tr>\n",
       "    <tr>\n",
       "      <th>11</th>\n",
       "      <td>Afghanistan</td>\n",
       "      <td>2019</td>\n",
       "      <td>2.375092</td>\n",
       "      <td>7.640086</td>\n",
       "      <td>0.419973</td>\n",
       "      <td>53.900002</td>\n",
       "      <td>0.393656</td>\n",
       "      <td>-0.109458</td>\n",
       "      <td>0.923849</td>\n",
       "      <td>0.324108</td>\n",
       "      <td>0.502474</td>\n",
       "    </tr>\n",
       "    <tr>\n",
       "      <th>12</th>\n",
       "      <td>Afghanistan</td>\n",
       "      <td>2021</td>\n",
       "      <td>2.436034</td>\n",
       "      <td>7.324501</td>\n",
       "      <td>0.454175</td>\n",
       "      <td>54.549999</td>\n",
       "      <td>0.394306</td>\n",
       "      <td>-0.084656</td>\n",
       "      <td>0.946299</td>\n",
       "      <td>0.178886</td>\n",
       "      <td>0.606713</td>\n",
       "    </tr>\n",
       "    <tr>\n",
       "      <th>13</th>\n",
       "      <td>Afghanistan</td>\n",
       "      <td>2022</td>\n",
       "      <td>1.281271</td>\n",
       "      <td>NaN</td>\n",
       "      <td>0.228217</td>\n",
       "      <td>54.875000</td>\n",
       "      <td>0.368377</td>\n",
       "      <td>NaN</td>\n",
       "      <td>0.733198</td>\n",
       "      <td>0.205868</td>\n",
       "      <td>0.575512</td>\n",
       "    </tr>\n",
       "    <tr>\n",
       "      <th>14</th>\n",
       "      <td>Afghanistan</td>\n",
       "      <td>2023</td>\n",
       "      <td>1.445909</td>\n",
       "      <td>NaN</td>\n",
       "      <td>0.368478</td>\n",
       "      <td>55.200001</td>\n",
       "      <td>0.228301</td>\n",
       "      <td>NaN</td>\n",
       "      <td>0.738471</td>\n",
       "      <td>0.260513</td>\n",
       "      <td>0.460167</td>\n",
       "    </tr>\n",
       "  </tbody>\n",
       "</table>\n",
       "</div>"
      ],
      "text/plain": [
       "   Country name  year  Life Ladder  Log GDP per capita  Social support  \\\n",
       "0   Afghanistan  2008     3.723590            7.350416        0.450662   \n",
       "1   Afghanistan  2009     4.401778            7.508646        0.552308   \n",
       "2   Afghanistan  2010     4.758381            7.613900        0.539075   \n",
       "3   Afghanistan  2011     3.831719            7.581259        0.521104   \n",
       "4   Afghanistan  2012     3.782938            7.660506        0.520637   \n",
       "5   Afghanistan  2013     3.572100            7.680333        0.483552   \n",
       "6   Afghanistan  2014     3.130896            7.670638        0.525568   \n",
       "7   Afghanistan  2015     3.982855            7.653833        0.528597   \n",
       "8   Afghanistan  2016     4.220169            7.650370        0.559072   \n",
       "9   Afghanistan  2017     2.661718            7.647830        0.490880   \n",
       "10  Afghanistan  2018     2.694303            7.630801        0.507516   \n",
       "11  Afghanistan  2019     2.375092            7.640086        0.419973   \n",
       "12  Afghanistan  2021     2.436034            7.324501        0.454175   \n",
       "13  Afghanistan  2022     1.281271                 NaN        0.228217   \n",
       "14  Afghanistan  2023     1.445909                 NaN        0.368478   \n",
       "\n",
       "    Healthy life expectancy at birth  Freedom to make life choices  \\\n",
       "0                          50.500000                      0.718114   \n",
       "1                          50.799999                      0.678896   \n",
       "2                          51.099998                      0.600127   \n",
       "3                          51.400002                      0.495901   \n",
       "4                          51.700001                      0.530935   \n",
       "5                          52.000000                      0.577955   \n",
       "6                          52.299999                      0.508514   \n",
       "7                          52.599998                      0.388928   \n",
       "8                          52.924999                      0.522566   \n",
       "9                          53.250000                      0.427011   \n",
       "10                         53.575001                      0.373536   \n",
       "11                         53.900002                      0.393656   \n",
       "12                         54.549999                      0.394306   \n",
       "13                         54.875000                      0.368377   \n",
       "14                         55.200001                      0.228301   \n",
       "\n",
       "    Generosity  Perceptions of corruption  Positive affect  Negative affect  \n",
       "0     0.164055                   0.881686         0.414297         0.258195  \n",
       "1     0.187297                   0.850035         0.481421         0.237092  \n",
       "2     0.117861                   0.706766         0.516907         0.275324  \n",
       "3     0.160098                   0.731109         0.479835         0.267175  \n",
       "4     0.234157                   0.775620         0.613513         0.267919  \n",
       "5     0.059246                   0.823204         0.547417         0.273328  \n",
       "6     0.102330                   0.871242         0.491641         0.374861  \n",
       "7     0.078218                   0.880638         0.491410         0.339276  \n",
       "8     0.040480                   0.793246         0.501409         0.348332  \n",
       "9    -0.122848                   0.954393         0.435270         0.371326  \n",
       "10   -0.094552                   0.927606         0.384561         0.404904  \n",
       "11   -0.109458                   0.923849         0.324108         0.502474  \n",
       "12   -0.084656                   0.946299         0.178886         0.606713  \n",
       "13         NaN                   0.733198         0.205868         0.575512  \n",
       "14         NaN                   0.738471         0.260513         0.460167  "
      ]
     },
     "execution_count": 491,
     "metadata": {},
     "output_type": "execute_result"
    }
   ],
   "source": [
    "data.head(15)"
   ]
  },
  {
   "cell_type": "code",
   "execution_count": 492,
   "id": "501b9aff-d451-496b-b8f7-e634b78c86b3",
   "metadata": {},
   "outputs": [
    {
     "data": {
      "text/html": [
       "<div>\n",
       "<style scoped>\n",
       "    .dataframe tbody tr th:only-of-type {\n",
       "        vertical-align: middle;\n",
       "    }\n",
       "\n",
       "    .dataframe tbody tr th {\n",
       "        vertical-align: top;\n",
       "    }\n",
       "\n",
       "    .dataframe thead th {\n",
       "        text-align: right;\n",
       "    }\n",
       "</style>\n",
       "<table border=\"1\" class=\"dataframe\">\n",
       "  <thead>\n",
       "    <tr style=\"text-align: right;\">\n",
       "      <th></th>\n",
       "      <th>Country name</th>\n",
       "      <th>year</th>\n",
       "      <th>Life Ladder</th>\n",
       "      <th>Log GDP per capita</th>\n",
       "      <th>Social support</th>\n",
       "      <th>Healthy life expectancy at birth</th>\n",
       "      <th>Freedom to make life choices</th>\n",
       "      <th>Generosity</th>\n",
       "      <th>Perceptions of corruption</th>\n",
       "      <th>Positive affect</th>\n",
       "      <th>Negative affect</th>\n",
       "    </tr>\n",
       "  </thead>\n",
       "  <tbody>\n",
       "    <tr>\n",
       "      <th>0</th>\n",
       "      <td>Afghanistan</td>\n",
       "      <td>2008</td>\n",
       "      <td>3.723590</td>\n",
       "      <td>7.350416</td>\n",
       "      <td>0.450662</td>\n",
       "      <td>50.500000</td>\n",
       "      <td>0.718114</td>\n",
       "      <td>0.164055</td>\n",
       "      <td>0.881686</td>\n",
       "      <td>0.414297</td>\n",
       "      <td>0.258195</td>\n",
       "    </tr>\n",
       "    <tr>\n",
       "      <th>1</th>\n",
       "      <td>Afghanistan</td>\n",
       "      <td>2009</td>\n",
       "      <td>4.401778</td>\n",
       "      <td>7.508646</td>\n",
       "      <td>0.552308</td>\n",
       "      <td>50.799999</td>\n",
       "      <td>0.678896</td>\n",
       "      <td>0.187297</td>\n",
       "      <td>0.850035</td>\n",
       "      <td>0.481421</td>\n",
       "      <td>0.237092</td>\n",
       "    </tr>\n",
       "    <tr>\n",
       "      <th>2</th>\n",
       "      <td>Afghanistan</td>\n",
       "      <td>2010</td>\n",
       "      <td>4.758381</td>\n",
       "      <td>7.613900</td>\n",
       "      <td>0.539075</td>\n",
       "      <td>51.099998</td>\n",
       "      <td>0.600127</td>\n",
       "      <td>0.117861</td>\n",
       "      <td>0.706766</td>\n",
       "      <td>0.516907</td>\n",
       "      <td>0.275324</td>\n",
       "    </tr>\n",
       "    <tr>\n",
       "      <th>3</th>\n",
       "      <td>Afghanistan</td>\n",
       "      <td>2011</td>\n",
       "      <td>3.831719</td>\n",
       "      <td>7.581259</td>\n",
       "      <td>0.521104</td>\n",
       "      <td>51.400002</td>\n",
       "      <td>0.495901</td>\n",
       "      <td>0.160098</td>\n",
       "      <td>0.731109</td>\n",
       "      <td>0.479835</td>\n",
       "      <td>0.267175</td>\n",
       "    </tr>\n",
       "    <tr>\n",
       "      <th>4</th>\n",
       "      <td>Afghanistan</td>\n",
       "      <td>2012</td>\n",
       "      <td>3.782938</td>\n",
       "      <td>7.660506</td>\n",
       "      <td>0.520637</td>\n",
       "      <td>51.700001</td>\n",
       "      <td>0.530935</td>\n",
       "      <td>0.234157</td>\n",
       "      <td>0.775620</td>\n",
       "      <td>0.613513</td>\n",
       "      <td>0.267919</td>\n",
       "    </tr>\n",
       "    <tr>\n",
       "      <th>5</th>\n",
       "      <td>Afghanistan</td>\n",
       "      <td>2013</td>\n",
       "      <td>3.572100</td>\n",
       "      <td>7.680333</td>\n",
       "      <td>0.483552</td>\n",
       "      <td>52.000000</td>\n",
       "      <td>0.577955</td>\n",
       "      <td>0.059246</td>\n",
       "      <td>0.823204</td>\n",
       "      <td>0.547417</td>\n",
       "      <td>0.273328</td>\n",
       "    </tr>\n",
       "    <tr>\n",
       "      <th>6</th>\n",
       "      <td>Afghanistan</td>\n",
       "      <td>2014</td>\n",
       "      <td>3.130896</td>\n",
       "      <td>7.670638</td>\n",
       "      <td>0.525568</td>\n",
       "      <td>52.299999</td>\n",
       "      <td>0.508514</td>\n",
       "      <td>0.102330</td>\n",
       "      <td>0.871242</td>\n",
       "      <td>0.491641</td>\n",
       "      <td>0.374861</td>\n",
       "    </tr>\n",
       "    <tr>\n",
       "      <th>7</th>\n",
       "      <td>Afghanistan</td>\n",
       "      <td>2015</td>\n",
       "      <td>3.982855</td>\n",
       "      <td>7.653833</td>\n",
       "      <td>0.528597</td>\n",
       "      <td>52.599998</td>\n",
       "      <td>0.388928</td>\n",
       "      <td>0.078218</td>\n",
       "      <td>0.880638</td>\n",
       "      <td>0.491410</td>\n",
       "      <td>0.339276</td>\n",
       "    </tr>\n",
       "    <tr>\n",
       "      <th>8</th>\n",
       "      <td>Afghanistan</td>\n",
       "      <td>2016</td>\n",
       "      <td>4.220169</td>\n",
       "      <td>7.650370</td>\n",
       "      <td>0.559072</td>\n",
       "      <td>52.924999</td>\n",
       "      <td>0.522566</td>\n",
       "      <td>0.040480</td>\n",
       "      <td>0.793246</td>\n",
       "      <td>0.501409</td>\n",
       "      <td>0.348332</td>\n",
       "    </tr>\n",
       "    <tr>\n",
       "      <th>9</th>\n",
       "      <td>Afghanistan</td>\n",
       "      <td>2017</td>\n",
       "      <td>2.661718</td>\n",
       "      <td>7.647830</td>\n",
       "      <td>0.490880</td>\n",
       "      <td>53.250000</td>\n",
       "      <td>0.427011</td>\n",
       "      <td>-0.122848</td>\n",
       "      <td>0.954393</td>\n",
       "      <td>0.435270</td>\n",
       "      <td>0.371326</td>\n",
       "    </tr>\n",
       "    <tr>\n",
       "      <th>10</th>\n",
       "      <td>Afghanistan</td>\n",
       "      <td>2018</td>\n",
       "      <td>2.694303</td>\n",
       "      <td>7.630801</td>\n",
       "      <td>0.507516</td>\n",
       "      <td>53.575001</td>\n",
       "      <td>0.373536</td>\n",
       "      <td>-0.094552</td>\n",
       "      <td>0.927606</td>\n",
       "      <td>0.384561</td>\n",
       "      <td>0.404904</td>\n",
       "    </tr>\n",
       "    <tr>\n",
       "      <th>11</th>\n",
       "      <td>Afghanistan</td>\n",
       "      <td>2019</td>\n",
       "      <td>2.375092</td>\n",
       "      <td>7.640086</td>\n",
       "      <td>0.419973</td>\n",
       "      <td>53.900002</td>\n",
       "      <td>0.393656</td>\n",
       "      <td>-0.109458</td>\n",
       "      <td>0.923849</td>\n",
       "      <td>0.324108</td>\n",
       "      <td>0.502474</td>\n",
       "    </tr>\n",
       "    <tr>\n",
       "      <th>12</th>\n",
       "      <td>Afghanistan</td>\n",
       "      <td>2021</td>\n",
       "      <td>2.436034</td>\n",
       "      <td>7.324501</td>\n",
       "      <td>0.454175</td>\n",
       "      <td>54.549999</td>\n",
       "      <td>0.394306</td>\n",
       "      <td>-0.084656</td>\n",
       "      <td>0.946299</td>\n",
       "      <td>0.178886</td>\n",
       "      <td>0.606713</td>\n",
       "    </tr>\n",
       "    <tr>\n",
       "      <th>13</th>\n",
       "      <td>Afghanistan</td>\n",
       "      <td>2022</td>\n",
       "      <td>1.281271</td>\n",
       "      <td>0.000000</td>\n",
       "      <td>0.228217</td>\n",
       "      <td>54.875000</td>\n",
       "      <td>0.368377</td>\n",
       "      <td>0.000000</td>\n",
       "      <td>0.733198</td>\n",
       "      <td>0.205868</td>\n",
       "      <td>0.575512</td>\n",
       "    </tr>\n",
       "    <tr>\n",
       "      <th>14</th>\n",
       "      <td>Afghanistan</td>\n",
       "      <td>2023</td>\n",
       "      <td>1.445909</td>\n",
       "      <td>0.000000</td>\n",
       "      <td>0.368478</td>\n",
       "      <td>55.200001</td>\n",
       "      <td>0.228301</td>\n",
       "      <td>0.000000</td>\n",
       "      <td>0.738471</td>\n",
       "      <td>0.260513</td>\n",
       "      <td>0.460167</td>\n",
       "    </tr>\n",
       "  </tbody>\n",
       "</table>\n",
       "</div>"
      ],
      "text/plain": [
       "   Country name  year  Life Ladder  Log GDP per capita  Social support  \\\n",
       "0   Afghanistan  2008     3.723590            7.350416        0.450662   \n",
       "1   Afghanistan  2009     4.401778            7.508646        0.552308   \n",
       "2   Afghanistan  2010     4.758381            7.613900        0.539075   \n",
       "3   Afghanistan  2011     3.831719            7.581259        0.521104   \n",
       "4   Afghanistan  2012     3.782938            7.660506        0.520637   \n",
       "5   Afghanistan  2013     3.572100            7.680333        0.483552   \n",
       "6   Afghanistan  2014     3.130896            7.670638        0.525568   \n",
       "7   Afghanistan  2015     3.982855            7.653833        0.528597   \n",
       "8   Afghanistan  2016     4.220169            7.650370        0.559072   \n",
       "9   Afghanistan  2017     2.661718            7.647830        0.490880   \n",
       "10  Afghanistan  2018     2.694303            7.630801        0.507516   \n",
       "11  Afghanistan  2019     2.375092            7.640086        0.419973   \n",
       "12  Afghanistan  2021     2.436034            7.324501        0.454175   \n",
       "13  Afghanistan  2022     1.281271            0.000000        0.228217   \n",
       "14  Afghanistan  2023     1.445909            0.000000        0.368478   \n",
       "\n",
       "    Healthy life expectancy at birth  Freedom to make life choices  \\\n",
       "0                          50.500000                      0.718114   \n",
       "1                          50.799999                      0.678896   \n",
       "2                          51.099998                      0.600127   \n",
       "3                          51.400002                      0.495901   \n",
       "4                          51.700001                      0.530935   \n",
       "5                          52.000000                      0.577955   \n",
       "6                          52.299999                      0.508514   \n",
       "7                          52.599998                      0.388928   \n",
       "8                          52.924999                      0.522566   \n",
       "9                          53.250000                      0.427011   \n",
       "10                         53.575001                      0.373536   \n",
       "11                         53.900002                      0.393656   \n",
       "12                         54.549999                      0.394306   \n",
       "13                         54.875000                      0.368377   \n",
       "14                         55.200001                      0.228301   \n",
       "\n",
       "    Generosity  Perceptions of corruption  Positive affect  Negative affect  \n",
       "0     0.164055                   0.881686         0.414297         0.258195  \n",
       "1     0.187297                   0.850035         0.481421         0.237092  \n",
       "2     0.117861                   0.706766         0.516907         0.275324  \n",
       "3     0.160098                   0.731109         0.479835         0.267175  \n",
       "4     0.234157                   0.775620         0.613513         0.267919  \n",
       "5     0.059246                   0.823204         0.547417         0.273328  \n",
       "6     0.102330                   0.871242         0.491641         0.374861  \n",
       "7     0.078218                   0.880638         0.491410         0.339276  \n",
       "8     0.040480                   0.793246         0.501409         0.348332  \n",
       "9    -0.122848                   0.954393         0.435270         0.371326  \n",
       "10   -0.094552                   0.927606         0.384561         0.404904  \n",
       "11   -0.109458                   0.923849         0.324108         0.502474  \n",
       "12   -0.084656                   0.946299         0.178886         0.606713  \n",
       "13    0.000000                   0.733198         0.205868         0.575512  \n",
       "14    0.000000                   0.738471         0.260513         0.460167  "
      ]
     },
     "execution_count": 492,
     "metadata": {},
     "output_type": "execute_result"
    }
   ],
   "source": [
    "data_new_3 = data.fillna(0)\n",
    "data_new_3.head(15)"
   ]
  },
  {
   "cell_type": "markdown",
   "id": "2ac9c4e9-70b9-4278-ba30-fde4a9255900",
   "metadata": {},
   "source": [
    "# \"Внедрение значений\" - импьютация (imputation)"
   ]
  },
  {
   "cell_type": "code",
   "execution_count": 494,
   "id": "8e1da4ff-8f77-4a7e-b270-2ce3d27d1934",
   "metadata": {},
   "outputs": [
    {
     "name": "stdout",
     "output_type": "stream",
     "text": [
      "Колонка: Log GDP per capita. Тип данных: float64. Количество пустых значений: 28, 1.18%.\n",
      "Колонка: Social support. Тип данных: float64. Количество пустых значений: 13, 0.55%.\n",
      "Колонка: Healthy life expectancy at birth. Тип данных: float64. Количество пустых значений: 63, 2.67%.\n",
      "Колонка: Freedom to make life choices. Тип данных: float64. Количество пустых значений: 36, 1.52%.\n",
      "Колонка: Generosity. Тип данных: float64. Количество пустых значений: 81, 3.43%.\n",
      "Колонка: Perceptions of corruption. Тип данных: float64. Количество пустых значений: 125, 5.29%.\n",
      "Колонка: Positive affect. Тип данных: float64. Количество пустых значений: 24, 1.02%.\n",
      "Колонка: Negative affect. Тип данных: float64. Количество пустых значений: 16, 0.68%.\n",
      "\n",
      "Числовые колонки с пропущенными значениями: ['Log GDP per capita', 'Social support', 'Healthy life expectancy at birth', 'Freedom to make life choices', 'Generosity', 'Perceptions of corruption', 'Positive affect', 'Negative affect']\n"
     ]
    }
   ],
   "source": [
    "# Вычислим общее количество строк в датасете\n",
    "total_count = data.shape[0]\n",
    "\n",
    "# Список для хранения числовых колонок с пропущенными значениями\n",
    "num_cols = []\n",
    "\n",
    "# Цикл по колонкам датасета\n",
    "for col in data.columns:\n",
    "    # Количество пустых значений\n",
    "    temp_null_count = data[col].isnull().sum()\n",
    "    \n",
    "    # Проверяем, является ли столбец числовым\n",
    "    if pd.api.types.is_numeric_dtype(data[col]) and temp_null_count > 0:\n",
    "        num_cols.append(col)\n",
    "        temp_perc = round((temp_null_count / total_count) * 100.0, 2)\n",
    "        print(f'Колонка: {col}. Тип данных: {data[col].dtype}. '\n",
    "              f'Количество пустых значений: {temp_null_count}, {temp_perc}%.')\n",
    "\n",
    "# Вывод списка числовых колонок с пропусками\n",
    "print(\"\\nЧисловые колонки с пропущенными значениями:\", num_cols)"
   ]
  },
  {
   "cell_type": "code",
   "execution_count": 495,
   "id": "abc563b7-8b9c-4553-9b82-d915522a1467",
   "metadata": {},
   "outputs": [
    {
     "data": {
      "text/html": [
       "<div>\n",
       "<style scoped>\n",
       "    .dataframe tbody tr th:only-of-type {\n",
       "        vertical-align: middle;\n",
       "    }\n",
       "\n",
       "    .dataframe tbody tr th {\n",
       "        vertical-align: top;\n",
       "    }\n",
       "\n",
       "    .dataframe thead th {\n",
       "        text-align: right;\n",
       "    }\n",
       "</style>\n",
       "<table border=\"1\" class=\"dataframe\">\n",
       "  <thead>\n",
       "    <tr style=\"text-align: right;\">\n",
       "      <th></th>\n",
       "      <th>Log GDP per capita</th>\n",
       "      <th>Social support</th>\n",
       "      <th>Healthy life expectancy at birth</th>\n",
       "      <th>Freedom to make life choices</th>\n",
       "      <th>Generosity</th>\n",
       "      <th>Perceptions of corruption</th>\n",
       "      <th>Positive affect</th>\n",
       "      <th>Negative affect</th>\n",
       "    </tr>\n",
       "  </thead>\n",
       "  <tbody>\n",
       "    <tr>\n",
       "      <th>0</th>\n",
       "      <td>7.350416</td>\n",
       "      <td>0.450662</td>\n",
       "      <td>50.500000</td>\n",
       "      <td>0.718114</td>\n",
       "      <td>0.164055</td>\n",
       "      <td>0.881686</td>\n",
       "      <td>0.414297</td>\n",
       "      <td>0.258195</td>\n",
       "    </tr>\n",
       "    <tr>\n",
       "      <th>1</th>\n",
       "      <td>7.508646</td>\n",
       "      <td>0.552308</td>\n",
       "      <td>50.799999</td>\n",
       "      <td>0.678896</td>\n",
       "      <td>0.187297</td>\n",
       "      <td>0.850035</td>\n",
       "      <td>0.481421</td>\n",
       "      <td>0.237092</td>\n",
       "    </tr>\n",
       "    <tr>\n",
       "      <th>2</th>\n",
       "      <td>7.613900</td>\n",
       "      <td>0.539075</td>\n",
       "      <td>51.099998</td>\n",
       "      <td>0.600127</td>\n",
       "      <td>0.117861</td>\n",
       "      <td>0.706766</td>\n",
       "      <td>0.516907</td>\n",
       "      <td>0.275324</td>\n",
       "    </tr>\n",
       "    <tr>\n",
       "      <th>3</th>\n",
       "      <td>7.581259</td>\n",
       "      <td>0.521104</td>\n",
       "      <td>51.400002</td>\n",
       "      <td>0.495901</td>\n",
       "      <td>0.160098</td>\n",
       "      <td>0.731109</td>\n",
       "      <td>0.479835</td>\n",
       "      <td>0.267175</td>\n",
       "    </tr>\n",
       "    <tr>\n",
       "      <th>4</th>\n",
       "      <td>7.660506</td>\n",
       "      <td>0.520637</td>\n",
       "      <td>51.700001</td>\n",
       "      <td>0.530935</td>\n",
       "      <td>0.234157</td>\n",
       "      <td>0.775620</td>\n",
       "      <td>0.613513</td>\n",
       "      <td>0.267919</td>\n",
       "    </tr>\n",
       "    <tr>\n",
       "      <th>...</th>\n",
       "      <td>...</td>\n",
       "      <td>...</td>\n",
       "      <td>...</td>\n",
       "      <td>...</td>\n",
       "      <td>...</td>\n",
       "      <td>...</td>\n",
       "      <td>...</td>\n",
       "      <td>...</td>\n",
       "    </tr>\n",
       "    <tr>\n",
       "      <th>2358</th>\n",
       "      <td>7.697755</td>\n",
       "      <td>0.759162</td>\n",
       "      <td>53.099998</td>\n",
       "      <td>0.631908</td>\n",
       "      <td>-0.050874</td>\n",
       "      <td>0.830652</td>\n",
       "      <td>0.658434</td>\n",
       "      <td>0.235354</td>\n",
       "    </tr>\n",
       "    <tr>\n",
       "      <th>2359</th>\n",
       "      <td>7.596050</td>\n",
       "      <td>0.717243</td>\n",
       "      <td>53.575001</td>\n",
       "      <td>0.643303</td>\n",
       "      <td>0.002848</td>\n",
       "      <td>0.788523</td>\n",
       "      <td>0.660658</td>\n",
       "      <td>0.345736</td>\n",
       "    </tr>\n",
       "    <tr>\n",
       "      <th>2360</th>\n",
       "      <td>7.656878</td>\n",
       "      <td>0.685151</td>\n",
       "      <td>54.049999</td>\n",
       "      <td>0.667636</td>\n",
       "      <td>-0.079007</td>\n",
       "      <td>0.756945</td>\n",
       "      <td>0.609917</td>\n",
       "      <td>0.241682</td>\n",
       "    </tr>\n",
       "    <tr>\n",
       "      <th>2361</th>\n",
       "      <td>7.670073</td>\n",
       "      <td>0.666172</td>\n",
       "      <td>54.525002</td>\n",
       "      <td>0.651987</td>\n",
       "      <td>-0.072935</td>\n",
       "      <td>0.752632</td>\n",
       "      <td>0.640609</td>\n",
       "      <td>0.191350</td>\n",
       "    </tr>\n",
       "    <tr>\n",
       "      <th>2362</th>\n",
       "      <td>7.678590</td>\n",
       "      <td>0.693817</td>\n",
       "      <td>55.000000</td>\n",
       "      <td>0.734613</td>\n",
       "      <td>-0.068837</td>\n",
       "      <td>0.757494</td>\n",
       "      <td>0.609752</td>\n",
       "      <td>0.178953</td>\n",
       "    </tr>\n",
       "  </tbody>\n",
       "</table>\n",
       "<p>2363 rows × 8 columns</p>\n",
       "</div>"
      ],
      "text/plain": [
       "      Log GDP per capita  Social support  Healthy life expectancy at birth  \\\n",
       "0               7.350416        0.450662                         50.500000   \n",
       "1               7.508646        0.552308                         50.799999   \n",
       "2               7.613900        0.539075                         51.099998   \n",
       "3               7.581259        0.521104                         51.400002   \n",
       "4               7.660506        0.520637                         51.700001   \n",
       "...                  ...             ...                               ...   \n",
       "2358            7.697755        0.759162                         53.099998   \n",
       "2359            7.596050        0.717243                         53.575001   \n",
       "2360            7.656878        0.685151                         54.049999   \n",
       "2361            7.670073        0.666172                         54.525002   \n",
       "2362            7.678590        0.693817                         55.000000   \n",
       "\n",
       "      Freedom to make life choices  Generosity  Perceptions of corruption  \\\n",
       "0                         0.718114    0.164055                   0.881686   \n",
       "1                         0.678896    0.187297                   0.850035   \n",
       "2                         0.600127    0.117861                   0.706766   \n",
       "3                         0.495901    0.160098                   0.731109   \n",
       "4                         0.530935    0.234157                   0.775620   \n",
       "...                            ...         ...                        ...   \n",
       "2358                      0.631908   -0.050874                   0.830652   \n",
       "2359                      0.643303    0.002848                   0.788523   \n",
       "2360                      0.667636   -0.079007                   0.756945   \n",
       "2361                      0.651987   -0.072935                   0.752632   \n",
       "2362                      0.734613   -0.068837                   0.757494   \n",
       "\n",
       "      Positive affect  Negative affect  \n",
       "0            0.414297         0.258195  \n",
       "1            0.481421         0.237092  \n",
       "2            0.516907         0.275324  \n",
       "3            0.479835         0.267175  \n",
       "4            0.613513         0.267919  \n",
       "...               ...              ...  \n",
       "2358         0.658434         0.235354  \n",
       "2359         0.660658         0.345736  \n",
       "2360         0.609917         0.241682  \n",
       "2361         0.640609         0.191350  \n",
       "2362         0.609752         0.178953  \n",
       "\n",
       "[2363 rows x 8 columns]"
      ]
     },
     "execution_count": 495,
     "metadata": {},
     "output_type": "execute_result"
    }
   ],
   "source": [
    "data_num = data[num_cols]\n",
    "data_num"
   ]
  },
  {
   "cell_type": "code",
   "execution_count": 496,
   "id": "3ecc2439-0d95-4838-9bd6-cd268353f6c4",
   "metadata": {},
   "outputs": [
    {
     "data": {
      "image/png": "[encoded data removed]",
      "text/plain": [
       "<Figure size 640x480 with 1 Axes>"
      ]
     },
     "metadata": {},
     "output_type": "display_data"
    },
    {
     "data": {
      "image/png": "[encoded data removed]",
      "text/plain": [
       "<Figure size 640x480 with 1 Axes>"
      ]
     },
     "metadata": {},
     "output_type": "display_data"
    },
    {
     "data": {
      "image/png": "[encoded data removed]",
      "text/plain": [
       "<Figure size 640x480 with 1 Axes>"
      ]
     },
     "metadata": {},
     "output_type": "display_data"
    },
    {
     "data": {
      "image/png": "[encoded data removed]",
      "text/plain": [
       "<Figure size 640x480 with 1 Axes>"
      ]
     },
     "metadata": {},
     "output_type": "display_data"
    },
    {
     "data": {
      "image/png": "[encoded data removed]",
      "text/plain": [
       "<Figure size 640x480 with 1 Axes>"
      ]
     },
     "metadata": {},
     "output_type": "display_data"
    },
    {
     "data": {
      "image/png": "[encoded data removed]",
      "text/plain": [
       "<Figure size 640x480 with 1 Axes>"
      ]
     },
     "metadata": {},
     "output_type": "display_data"
    },
    {
     "data": {
      "image/png": "[encoded data removed]",
      "text/plain": [
       "<Figure size 640x480 with 1 Axes>"
      ]
     },
     "metadata": {},
     "output_type": "display_data"
    },
    {
     "data": {
      "image/png": "[encoded data removed]",
      "text/plain": [
       "<Figure size 640x480 with 1 Axes>"
      ]
     },
     "metadata": {},
     "output_type": "display_data"
    }
   ],
   "source": [
    "for col in data_num:\n",
    "    plt.hist(data[col], 50)\n",
    "    plt.xlabel(col)\n",
    "    plt.show()"
   ]
  },
  {
   "cell_type": "code",
   "execution_count": 497,
   "id": "b520d9ae-cd84-4585-aca5-8c38241b14c7",
   "metadata": {},
   "outputs": [
    {
     "data": {
      "text/html": [
       "<div>\n",
       "<style scoped>\n",
       "    .dataframe tbody tr th:only-of-type {\n",
       "        vertical-align: middle;\n",
       "    }\n",
       "\n",
       "    .dataframe tbody tr th {\n",
       "        vertical-align: top;\n",
       "    }\n",
       "\n",
       "    .dataframe thead th {\n",
       "        text-align: right;\n",
       "    }\n",
       "</style>\n",
       "<table border=\"1\" class=\"dataframe\">\n",
       "  <thead>\n",
       "    <tr style=\"text-align: right;\">\n",
       "      <th></th>\n",
       "      <th>Log GDP per capita</th>\n",
       "    </tr>\n",
       "  </thead>\n",
       "  <tbody>\n",
       "    <tr>\n",
       "      <th>0</th>\n",
       "      <td>7.350416</td>\n",
       "    </tr>\n",
       "    <tr>\n",
       "      <th>1</th>\n",
       "      <td>7.508646</td>\n",
       "    </tr>\n",
       "    <tr>\n",
       "      <th>2</th>\n",
       "      <td>7.613900</td>\n",
       "    </tr>\n",
       "    <tr>\n",
       "      <th>3</th>\n",
       "      <td>7.581259</td>\n",
       "    </tr>\n",
       "    <tr>\n",
       "      <th>4</th>\n",
       "      <td>7.660506</td>\n",
       "    </tr>\n",
       "    <tr>\n",
       "      <th>5</th>\n",
       "      <td>7.680333</td>\n",
       "    </tr>\n",
       "    <tr>\n",
       "      <th>6</th>\n",
       "      <td>7.670638</td>\n",
       "    </tr>\n",
       "    <tr>\n",
       "      <th>7</th>\n",
       "      <td>7.653833</td>\n",
       "    </tr>\n",
       "    <tr>\n",
       "      <th>8</th>\n",
       "      <td>7.650370</td>\n",
       "    </tr>\n",
       "    <tr>\n",
       "      <th>9</th>\n",
       "      <td>7.647830</td>\n",
       "    </tr>\n",
       "    <tr>\n",
       "      <th>10</th>\n",
       "      <td>7.630801</td>\n",
       "    </tr>\n",
       "    <tr>\n",
       "      <th>11</th>\n",
       "      <td>7.640086</td>\n",
       "    </tr>\n",
       "    <tr>\n",
       "      <th>12</th>\n",
       "      <td>7.324501</td>\n",
       "    </tr>\n",
       "    <tr>\n",
       "      <th>13</th>\n",
       "      <td>NaN</td>\n",
       "    </tr>\n",
       "    <tr>\n",
       "      <th>14</th>\n",
       "      <td>NaN</td>\n",
       "    </tr>\n",
       "  </tbody>\n",
       "</table>\n",
       "</div>"
      ],
      "text/plain": [
       "    Log GDP per capita\n",
       "0             7.350416\n",
       "1             7.508646\n",
       "2             7.613900\n",
       "3             7.581259\n",
       "4             7.660506\n",
       "5             7.680333\n",
       "6             7.670638\n",
       "7             7.653833\n",
       "8             7.650370\n",
       "9             7.647830\n",
       "10            7.630801\n",
       "11            7.640086\n",
       "12            7.324501\n",
       "13                 NaN\n",
       "14                 NaN"
      ]
     },
     "execution_count": 497,
     "metadata": {},
     "output_type": "execute_result"
    }
   ],
   "source": [
    "data_num_logGDPperCapita = data_num[['Log GDP per capita']]\n",
    "data_num_logGDPperCapita.head(15)"
   ]
  },
  {
   "cell_type": "code",
   "execution_count": 498,
   "id": "0ca92aee-31d2-4a60-88c2-88ead282d5a6",
   "metadata": {},
   "outputs": [],
   "source": [
    "from sklearn.impute import SimpleImputer\n",
    "from sklearn.impute import MissingIndicator"
   ]
  },
  {
   "cell_type": "code",
   "execution_count": 499,
   "id": "e944266e-062d-4f52-8208-31dea057b452",
   "metadata": {},
   "outputs": [
    {
     "data": {
      "text/plain": [
       "(array([ True]), array([ True]))"
      ]
     },
     "execution_count": 499,
     "metadata": {},
     "output_type": "execute_result"
    }
   ],
   "source": [
    "# Фильтр для проверки заполнения пустых значений\n",
    "indicator = MissingIndicator()\n",
    "mask_missing_values_only = indicator.fit_transform(data_num_logGDPperCapita)\n",
    "mask_missing_values_only[13], mask_missing_values_only[14]"
   ]
  },
  {
   "cell_type": "code",
   "execution_count": 500,
   "id": "b183a178-a602-47e9-a72e-c15e00386527",
   "metadata": {},
   "outputs": [],
   "source": [
    "strategies=['mean', 'median', 'most_frequent']"
   ]
  },
  {
   "cell_type": "code",
   "execution_count": 501,
   "id": "5a882fb8-e5a4-4a1f-b154-a543bdc5a861",
   "metadata": {},
   "outputs": [],
   "source": [
    "def test_num_impute(strategy_param):\n",
    "    imp_num = SimpleImputer(strategy=strategy_param)\n",
    "    data_num_imp = imp_num.fit_transform(data_num_logGDPperCapita)\n",
    "    return data_num_imp[mask_missing_values_only]"
   ]
  },
  {
   "cell_type": "code",
   "execution_count": 502,
   "id": "1084673a-364d-4254-aa60-d827bfcf4c77",
   "metadata": {},
   "outputs": [
    {
     "data": {
      "text/plain": [
       "('mean',\n",
       " array([9.3996726, 9.3996726, 9.3996726, 9.3996726, 9.3996726, 9.3996726,\n",
       "        9.3996726, 9.3996726, 9.3996726, 9.3996726, 9.3996726, 9.3996726,\n",
       "        9.3996726, 9.3996726, 9.3996726, 9.3996726, 9.3996726, 9.3996726,\n",
       "        9.3996726, 9.3996726, 9.3996726, 9.3996726, 9.3996726, 9.3996726,\n",
       "        9.3996726, 9.3996726, 9.3996726, 9.3996726]))"
      ]
     },
     "execution_count": 502,
     "metadata": {},
     "output_type": "execute_result"
    }
   ],
   "source": [
    "strategies[0], test_num_impute(strategies[0])"
   ]
  },
  {
   "cell_type": "code",
   "execution_count": 503,
   "id": "53c2bca0-ccab-47c9-9ffb-b11c4b64b135",
   "metadata": {},
   "outputs": [
    {
     "data": {
      "text/plain": [
       "('median',\n",
       " array([9.5029459, 9.5029459, 9.5029459, 9.5029459, 9.5029459, 9.5029459,\n",
       "        9.5029459, 9.5029459, 9.5029459, 9.5029459, 9.5029459, 9.5029459,\n",
       "        9.5029459, 9.5029459, 9.5029459, 9.5029459, 9.5029459, 9.5029459,\n",
       "        9.5029459, 9.5029459, 9.5029459, 9.5029459, 9.5029459, 9.5029459,\n",
       "        9.5029459, 9.5029459, 9.5029459, 9.5029459]))"
      ]
     },
     "execution_count": 503,
     "metadata": {},
     "output_type": "execute_result"
    }
   ],
   "source": [
    "strategies[1], test_num_impute(strategies[1])"
   ]
  },
  {
   "cell_type": "code",
   "execution_count": 504,
   "id": "65ebce19-64f6-4733-b15c-6350203e7a3a",
   "metadata": {},
   "outputs": [
    {
     "data": {
      "text/plain": [
       "('most_frequent',\n",
       " array([10.74176884, 10.74176884, 10.74176884, 10.74176884, 10.74176884,\n",
       "        10.74176884, 10.74176884, 10.74176884, 10.74176884, 10.74176884,\n",
       "        10.74176884, 10.74176884, 10.74176884, 10.74176884, 10.74176884,\n",
       "        10.74176884, 10.74176884, 10.74176884, 10.74176884, 10.74176884,\n",
       "        10.74176884, 10.74176884, 10.74176884, 10.74176884, 10.74176884,\n",
       "        10.74176884, 10.74176884, 10.74176884]))"
      ]
     },
     "execution_count": 504,
     "metadata": {},
     "output_type": "execute_result"
    }
   ],
   "source": [
    "strategies[2], test_num_impute(strategies[2])"
   ]
  },
  {
   "cell_type": "code",
   "execution_count": 505,
   "id": "9b9444fa-fc89-4070-aaf6-5489a8a12b6b",
   "metadata": {},
   "outputs": [],
   "source": [
    "def test_num_impute_col(dataset, column, strategy_param):\n",
    "    temp_data = dataset[[column]]\n",
    "    \n",
    "    indicator = MissingIndicator()\n",
    "    mask_missing_values_only = indicator.fit_transform(temp_data)\n",
    "    \n",
    "    imp_num = SimpleImputer(strategy=strategy_param)\n",
    "    data_num_imp = imp_num.fit_transform(temp_data)\n",
    "    \n",
    "    filled_data = data_num_imp[mask_missing_values_only]\n",
    "    \n",
    "    return column, strategy_param, filled_data.size, filled_data[0], filled_data[filled_data.size-1]"
   ]
  },
  {
   "cell_type": "code",
   "execution_count": 506,
   "id": "e4feb180-bf63-46be-99d8-06763bb13908",
   "metadata": {},
   "outputs": [
    {
     "data": {
      "text/html": [
       "<div>\n",
       "<style scoped>\n",
       "    .dataframe tbody tr th:only-of-type {\n",
       "        vertical-align: middle;\n",
       "    }\n",
       "\n",
       "    .dataframe tbody tr th {\n",
       "        vertical-align: top;\n",
       "    }\n",
       "\n",
       "    .dataframe thead th {\n",
       "        text-align: right;\n",
       "    }\n",
       "</style>\n",
       "<table border=\"1\" class=\"dataframe\">\n",
       "  <thead>\n",
       "    <tr style=\"text-align: right;\">\n",
       "      <th></th>\n",
       "      <th>Perceptions of corruption</th>\n",
       "    </tr>\n",
       "  </thead>\n",
       "  <tbody>\n",
       "    <tr>\n",
       "      <th>count</th>\n",
       "      <td>2238.000000</td>\n",
       "    </tr>\n",
       "    <tr>\n",
       "      <th>mean</th>\n",
       "      <td>0.743959</td>\n",
       "    </tr>\n",
       "    <tr>\n",
       "      <th>std</th>\n",
       "      <td>0.184871</td>\n",
       "    </tr>\n",
       "    <tr>\n",
       "      <th>min</th>\n",
       "      <td>0.035198</td>\n",
       "    </tr>\n",
       "    <tr>\n",
       "      <th>25%</th>\n",
       "      <td>0.686784</td>\n",
       "    </tr>\n",
       "    <tr>\n",
       "      <th>50%</th>\n",
       "      <td>0.798497</td>\n",
       "    </tr>\n",
       "    <tr>\n",
       "      <th>75%</th>\n",
       "      <td>0.867557</td>\n",
       "    </tr>\n",
       "    <tr>\n",
       "      <th>max</th>\n",
       "      <td>0.983276</td>\n",
       "    </tr>\n",
       "  </tbody>\n",
       "</table>\n",
       "</div>"
      ],
      "text/plain": [
       "       Perceptions of corruption\n",
       "count                2238.000000\n",
       "mean                    0.743959\n",
       "std                     0.184871\n",
       "min                     0.035198\n",
       "25%                     0.686784\n",
       "50%                     0.798497\n",
       "75%                     0.867557\n",
       "max                     0.983276"
      ]
     },
     "execution_count": 506,
     "metadata": {},
     "output_type": "execute_result"
    }
   ],
   "source": [
    "data[['Perceptions of corruption']].describe()"
   ]
  },
  {
   "cell_type": "code",
   "execution_count": 507,
   "id": "31d31a5e-11cf-4b14-b800-f67ef9caf377",
   "metadata": {},
   "outputs": [
    {
     "data": {
      "text/plain": [
       "('Perceptions of corruption',\n",
       " 'mean',\n",
       " 125,\n",
       " 0.7439591797273456,\n",
       " 0.7439591797273456)"
      ]
     },
     "execution_count": 507,
     "metadata": {},
     "output_type": "execute_result"
    }
   ],
   "source": [
    "test_num_impute_col(data, 'Perceptions of corruption', strategies[0])"
   ]
  },
  {
   "cell_type": "code",
   "execution_count": 508,
   "id": "495aafc7-096c-4473-a8a1-e330e6042d83",
   "metadata": {},
   "outputs": [
    {
     "data": {
      "text/plain": [
       "('Perceptions of corruption',\n",
       " 'median',\n",
       " 125,\n",
       " 0.7984966337680817,\n",
       " 0.7984966337680817)"
      ]
     },
     "execution_count": 508,
     "metadata": {},
     "output_type": "execute_result"
    }
   ],
   "source": [
    "test_num_impute_col(data, 'Perceptions of corruption', strategies[1])"
   ]
  },
  {
   "cell_type": "code",
   "execution_count": 509,
   "id": "9a0bfb77-53ee-460b-91a6-36b343b41d73",
   "metadata": {},
   "outputs": [
    {
     "data": {
      "text/plain": [
       "('Perceptions of corruption',\n",
       " 'most_frequent',\n",
       " 125,\n",
       " 0.0351979881525039,\n",
       " 0.0351979881525039)"
      ]
     },
     "execution_count": 509,
     "metadata": {},
     "output_type": "execute_result"
    }
   ],
   "source": [
    "test_num_impute_col(data, 'Perceptions of corruption', strategies[2])"
   ]
  },
  {
   "cell_type": "markdown",
   "id": "28d060b4-ad01-4356-bd6f-4e7ce23f32ac",
   "metadata": {},
   "source": [
    "## Обработка пропусков в категориальных данных"
   ]
  },
  {
   "cell_type": "code",
   "execution_count": 511,
   "id": "074c1bff-2e7a-4aac-8cf3-48158709edd9",
   "metadata": {},
   "outputs": [
    {
     "name": "stdout",
     "output_type": "stream",
     "text": [
      "  Transaction ID    Item Quantity Price Per Unit Total Spent  Payment Method  \\\n",
      "0    TXN_1961373  Coffee        2            2.0         4.0     Credit Card   \n",
      "1    TXN_4977031    Cake        4            3.0        12.0            Cash   \n",
      "2    TXN_4271903  Cookie        4            1.0       ERROR     Credit Card   \n",
      "3    TXN_7034554   Salad        2            5.0        10.0         UNKNOWN   \n",
      "4    TXN_3160411  Coffee        2            2.0         4.0  Digital Wallet   \n",
      "\n",
      "   Location Transaction Date  \n",
      "0  Takeaway       2023-09-08  \n",
      "1  In-store       2023-05-16  \n",
      "2  In-store       2023-07-19  \n",
      "3   UNKNOWN       2023-04-27  \n",
      "4  In-store       2023-06-11  \n"
     ]
    }
   ],
   "source": [
    "# Загрузка датасета\n",
    "data = pd.read_csv('dirty_data.csv', sep=\",\")\n",
    "\n",
    "# Просмотр первых 5 строк датасета\n",
    "print(data.head())"
   ]
  },
  {
   "cell_type": "code",
   "execution_count": 512,
   "id": "7ca97435-ab8b-4c41-8538-76bb66627516",
   "metadata": {},
   "outputs": [
    {
     "name": "stdout",
     "output_type": "stream",
     "text": [
      "Колонка Item. Тип данных object. Количество пустых значений 333, 3.33%.\n",
      "Колонка Quantity. Тип данных object. Количество пустых значений 138, 1.38%.\n",
      "Колонка Price Per Unit. Тип данных object. Количество пустых значений 179, 1.79%.\n",
      "Колонка Total Spent. Тип данных object. Количество пустых значений 173, 1.73%.\n",
      "Колонка Payment Method. Тип данных object. Количество пустых значений 2579, 25.79%.\n",
      "Колонка Location. Тип данных object. Количество пустых значений 3265, 32.65%.\n",
      "Колонка Transaction Date. Тип данных object. Количество пустых значений 159, 1.59%.\n"
     ]
    }
   ],
   "source": [
    "total_count = data.shape[0]\n",
    "\n",
    "# Цикл по колонкам датасета\n",
    "cat_cols = []\n",
    "for col in data.columns:\n",
    "    # Количество пустых значений \n",
    "    temp_null_count = data[data[col].isnull()].shape[0]\n",
    "    dt = str(data[col].dtype)\n",
    "    if temp_null_count>0 and (dt=='object'):\n",
    "        cat_cols.append(col)\n",
    "        temp_perc = round((temp_null_count / total_count) * 100.0, 2)\n",
    "        print('Колонка {}. Тип данных {}. Количество пустых значений {}, {}%.'.format(col, dt, temp_null_count, temp_perc))"
   ]
  },
  {
   "cell_type": "code",
   "execution_count": 513,
   "id": "2232cb4b-0aa4-4ce4-a2fb-cd90bc0cf51d",
   "metadata": {},
   "outputs": [
    {
     "data": {
      "text/html": [
       "<div>\n",
       "<style scoped>\n",
       "    .dataframe tbody tr th:only-of-type {\n",
       "        vertical-align: middle;\n",
       "    }\n",
       "\n",
       "    .dataframe tbody tr th {\n",
       "        vertical-align: top;\n",
       "    }\n",
       "\n",
       "    .dataframe thead th {\n",
       "        text-align: right;\n",
       "    }\n",
       "</style>\n",
       "<table border=\"1\" class=\"dataframe\">\n",
       "  <thead>\n",
       "    <tr style=\"text-align: right;\">\n",
       "      <th></th>\n",
       "      <th>Payment Method</th>\n",
       "    </tr>\n",
       "  </thead>\n",
       "  <tbody>\n",
       "    <tr>\n",
       "      <th>0</th>\n",
       "      <td>Credit Card</td>\n",
       "    </tr>\n",
       "    <tr>\n",
       "      <th>1</th>\n",
       "      <td>Cash</td>\n",
       "    </tr>\n",
       "    <tr>\n",
       "      <th>2</th>\n",
       "      <td>Credit Card</td>\n",
       "    </tr>\n",
       "    <tr>\n",
       "      <th>3</th>\n",
       "      <td>UNKNOWN</td>\n",
       "    </tr>\n",
       "    <tr>\n",
       "      <th>4</th>\n",
       "      <td>Digital Wallet</td>\n",
       "    </tr>\n",
       "  </tbody>\n",
       "</table>\n",
       "</div>"
      ],
      "text/plain": [
       "   Payment Method\n",
       "0     Credit Card\n",
       "1            Cash\n",
       "2     Credit Card\n",
       "3         UNKNOWN\n",
       "4  Digital Wallet"
      ]
     },
     "execution_count": 513,
     "metadata": {},
     "output_type": "execute_result"
    }
   ],
   "source": [
    "cat_temp_data = data[['Payment Method']]\n",
    "cat_temp_data.head(5)"
   ]
  },
  {
   "cell_type": "code",
   "execution_count": 514,
   "id": "368e77b0-def7-4aa5-8784-09bddd7a3c95",
   "metadata": {},
   "outputs": [
    {
     "data": {
      "text/plain": [
       "array(['Credit Card', 'Cash', 'UNKNOWN', 'Digital Wallet', 'ERROR', nan],\n",
       "      dtype=object)"
      ]
     },
     "execution_count": 514,
     "metadata": {},
     "output_type": "execute_result"
    }
   ],
   "source": [
    "cat_temp_data['Payment Method'].unique()"
   ]
  },
  {
   "cell_type": "code",
   "execution_count": 515,
   "id": "27ea1e38-c3e7-436f-b07f-adf51e10dee5",
   "metadata": {},
   "outputs": [
    {
     "data": {
      "text/plain": [
       "(2579, 1)"
      ]
     },
     "execution_count": 515,
     "metadata": {},
     "output_type": "execute_result"
    }
   ],
   "source": [
    "cat_temp_data[cat_temp_data['Payment Method'].isnull()].shape"
   ]
  },
  {
   "cell_type": "code",
   "execution_count": 516,
   "id": "a1698da0-3714-45e2-8724-83792fd6124f",
   "metadata": {},
   "outputs": [
    {
     "data": {
      "text/plain": [
       "array([['Credit Card'],\n",
       "       ['Cash'],\n",
       "       ['Credit Card'],\n",
       "       ...,\n",
       "       ['Digital Wallet'],\n",
       "       ['Digital Wallet'],\n",
       "       ['Cash']], dtype=object)"
      ]
     },
     "execution_count": 516,
     "metadata": {},
     "output_type": "execute_result"
    }
   ],
   "source": [
    "# Импьютация наиболее частыми значениями\n",
    "imp2 = SimpleImputer(missing_values=np.nan, strategy='most_frequent')\n",
    "data_imp2 = imp2.fit_transform(cat_temp_data)\n",
    "data_imp2"
   ]
  },
  {
   "cell_type": "code",
   "execution_count": 517,
   "id": "e651c5d1-f51c-4da8-9ec2-3146fd2244a4",
   "metadata": {},
   "outputs": [
    {
     "data": {
      "text/plain": [
       "array(['Cash', 'Credit Card', 'Digital Wallet', 'ERROR', 'UNKNOWN'],\n",
       "      dtype=object)"
      ]
     },
     "execution_count": 517,
     "metadata": {},
     "output_type": "execute_result"
    }
   ],
   "source": [
    "# Пустые значения отсутствуют\n",
    "np.unique(data_imp2)"
   ]
  },
  {
   "cell_type": "code",
   "execution_count": 518,
   "id": "a5d3cfe1-8130-4d29-8c8b-ccccee1a93cc",
   "metadata": {},
   "outputs": [
    {
     "data": {
      "text/plain": [
       "array([['Credit Card'],\n",
       "       ['Cash'],\n",
       "       ['Credit Card'],\n",
       "       ...,\n",
       "       ['Digital Wallet'],\n",
       "       ['Digital Wallet'],\n",
       "       ['Cash']], dtype=object)"
      ]
     },
     "execution_count": 518,
     "metadata": {},
     "output_type": "execute_result"
    }
   ],
   "source": [
    "# Импьютация константой\n",
    "imp3 = SimpleImputer(missing_values=np.nan, strategy='constant', fill_value='NA')\n",
    "data_imp3 = imp3.fit_transform(cat_temp_data)\n",
    "data_imp3"
   ]
  },
  {
   "cell_type": "code",
   "execution_count": 519,
   "id": "67a7eb91-afad-4b36-bd12-64b5cff066b3",
   "metadata": {},
   "outputs": [
    {
     "data": {
      "text/plain": [
       "array(['Cash', 'Credit Card', 'Digital Wallet', 'ERROR', 'NA', 'UNKNOWN'],\n",
       "      dtype=object)"
      ]
     },
     "execution_count": 519,
     "metadata": {},
     "output_type": "execute_result"
    }
   ],
   "source": [
    "np.unique(data_imp3)"
   ]
  },
  {
   "cell_type": "code",
   "execution_count": 520,
   "id": "62212141-0c73-478c-aeac-3aac0ddbbc17",
   "metadata": {},
   "outputs": [
    {
     "data": {
      "text/plain": [
       "2579"
      ]
     },
     "execution_count": 520,
     "metadata": {},
     "output_type": "execute_result"
    }
   ],
   "source": [
    "data_imp3[data_imp3=='NA'].size"
   ]
  },
  {
   "cell_type": "markdown",
   "id": "94acf695-7a0f-4b95-b235-9b17f7a61669",
   "metadata": {},
   "source": [
    "# Преобразование категориальных признаков в числовые"
   ]
  },
  {
   "cell_type": "code",
   "execution_count": 522,
   "id": "675f00e8-dd26-4fdb-b941-34a4877ab7c9",
   "metadata": {},
   "outputs": [
    {
     "data": {
      "text/html": [
       "<div>\n",
       "<style scoped>\n",
       "    .dataframe tbody tr th:only-of-type {\n",
       "        vertical-align: middle;\n",
       "    }\n",
       "\n",
       "    .dataframe tbody tr th {\n",
       "        vertical-align: top;\n",
       "    }\n",
       "\n",
       "    .dataframe thead th {\n",
       "        text-align: right;\n",
       "    }\n",
       "</style>\n",
       "<table border=\"1\" class=\"dataframe\">\n",
       "  <thead>\n",
       "    <tr style=\"text-align: right;\">\n",
       "      <th></th>\n",
       "      <th>c1</th>\n",
       "    </tr>\n",
       "  </thead>\n",
       "  <tbody>\n",
       "    <tr>\n",
       "      <th>0</th>\n",
       "      <td>Credit Card</td>\n",
       "    </tr>\n",
       "    <tr>\n",
       "      <th>1</th>\n",
       "      <td>Cash</td>\n",
       "    </tr>\n",
       "    <tr>\n",
       "      <th>2</th>\n",
       "      <td>Credit Card</td>\n",
       "    </tr>\n",
       "    <tr>\n",
       "      <th>3</th>\n",
       "      <td>UNKNOWN</td>\n",
       "    </tr>\n",
       "    <tr>\n",
       "      <th>4</th>\n",
       "      <td>Digital Wallet</td>\n",
       "    </tr>\n",
       "    <tr>\n",
       "      <th>...</th>\n",
       "      <td>...</td>\n",
       "    </tr>\n",
       "    <tr>\n",
       "      <th>9995</th>\n",
       "      <td>Digital Wallet</td>\n",
       "    </tr>\n",
       "    <tr>\n",
       "      <th>9996</th>\n",
       "      <td>Digital Wallet</td>\n",
       "    </tr>\n",
       "    <tr>\n",
       "      <th>9997</th>\n",
       "      <td>Digital Wallet</td>\n",
       "    </tr>\n",
       "    <tr>\n",
       "      <th>9998</th>\n",
       "      <td>Digital Wallet</td>\n",
       "    </tr>\n",
       "    <tr>\n",
       "      <th>9999</th>\n",
       "      <td>Cash</td>\n",
       "    </tr>\n",
       "  </tbody>\n",
       "</table>\n",
       "<p>10000 rows × 1 columns</p>\n",
       "</div>"
      ],
      "text/plain": [
       "                  c1\n",
       "0        Credit Card\n",
       "1               Cash\n",
       "2        Credit Card\n",
       "3            UNKNOWN\n",
       "4     Digital Wallet\n",
       "...              ...\n",
       "9995  Digital Wallet\n",
       "9996  Digital Wallet\n",
       "9997  Digital Wallet\n",
       "9998  Digital Wallet\n",
       "9999            Cash\n",
       "\n",
       "[10000 rows x 1 columns]"
      ]
     },
     "execution_count": 522,
     "metadata": {},
     "output_type": "execute_result"
    }
   ],
   "source": [
    "cat_enc = pd.DataFrame({'c1':data_imp2.T[0]})\n",
    "cat_enc"
   ]
  },
  {
   "cell_type": "markdown",
   "id": "9d2b4f46-05ca-477a-958d-4daa4ae84c49",
   "metadata": {},
   "source": [
    "# Кодирование категорий целочисленными значениями (label encoding)"
   ]
  },
  {
   "cell_type": "markdown",
   "id": "2fe0032b-450c-4ea6-a5ec-3c489be82979",
   "metadata": {},
   "source": [
    "# Использование LabelEncoder"
   ]
  },
  {
   "cell_type": "code",
   "execution_count": 525,
   "id": "7043e62c-e337-4bc2-8694-f80eb48231af",
   "metadata": {},
   "outputs": [
    {
     "data": {
      "text/plain": [
       "array(['Credit Card', 'Cash', 'UNKNOWN', 'Digital Wallet', 'ERROR'],\n",
       "      dtype=object)"
      ]
     },
     "execution_count": 525,
     "metadata": {},
     "output_type": "execute_result"
    }
   ],
   "source": [
    "from sklearn.preprocessing import LabelEncoder\n",
    "cat_enc['c1'].unique()"
   ]
  },
  {
   "cell_type": "code",
   "execution_count": 526,
   "id": "4a81ef7b-74b3-40c4-b821-0f2df06cc88d",
   "metadata": {},
   "outputs": [
    {
     "data": {
      "text/plain": [
       "array(['Cash', 'Credit Card', 'Digital Wallet', 'ERROR', 'UNKNOWN'],\n",
       "      dtype=object)"
      ]
     },
     "execution_count": 526,
     "metadata": {},
     "output_type": "execute_result"
    }
   ],
   "source": [
    "le = LabelEncoder()\n",
    "cat_enc_le = le.fit_transform(cat_enc['c1'])\n",
    "le.classes_"
   ]
  },
  {
   "cell_type": "code",
   "execution_count": 527,
   "id": "60bd266c-db16-464b-9e9e-613d19833c7e",
   "metadata": {},
   "outputs": [
    {
     "data": {
      "text/plain": [
       "array([1, 0, 1, ..., 2, 2, 0])"
      ]
     },
     "execution_count": 527,
     "metadata": {},
     "output_type": "execute_result"
    }
   ],
   "source": [
    "cat_enc_le"
   ]
  },
  {
   "cell_type": "code",
   "execution_count": 528,
   "id": "30855e39-b8d6-45b1-bb25-1a0f6dee917c",
   "metadata": {},
   "outputs": [
    {
     "data": {
      "text/plain": [
       "array([0, 1, 2, 3, 4])"
      ]
     },
     "execution_count": 528,
     "metadata": {},
     "output_type": "execute_result"
    }
   ],
   "source": [
    "np.unique(cat_enc_le)"
   ]
  },
  {
   "cell_type": "code",
   "execution_count": 529,
   "id": "9f364795-0e01-4cd4-ad5e-283323c7a6b7",
   "metadata": {},
   "outputs": [
    {
     "data": {
      "text/plain": [
       "array(['Cash', 'Credit Card', 'Digital Wallet', 'ERROR'], dtype=object)"
      ]
     },
     "execution_count": 529,
     "metadata": {},
     "output_type": "execute_result"
    }
   ],
   "source": [
    "le.inverse_transform([0, 1, 2, 3])"
   ]
  },
  {
   "cell_type": "markdown",
   "id": "dfda046c-fb65-4c51-8df1-b02c7f2c3f59",
   "metadata": {},
   "source": [
    "## Использование OrdinalEncoder"
   ]
  },
  {
   "cell_type": "code",
   "execution_count": 531,
   "id": "0425259e-3ae5-4ec1-8058-eb19946e1e53",
   "metadata": {},
   "outputs": [
    {
     "data": {
      "text/html": [
       "<div>\n",
       "<style scoped>\n",
       "    .dataframe tbody tr th:only-of-type {\n",
       "        vertical-align: middle;\n",
       "    }\n",
       "\n",
       "    .dataframe tbody tr th {\n",
       "        vertical-align: top;\n",
       "    }\n",
       "\n",
       "    .dataframe thead th {\n",
       "        text-align: right;\n",
       "    }\n",
       "</style>\n",
       "<table border=\"1\" class=\"dataframe\">\n",
       "  <thead>\n",
       "    <tr style=\"text-align: right;\">\n",
       "      <th></th>\n",
       "      <th>Payment Method</th>\n",
       "      <th>Location</th>\n",
       "      <th>Item</th>\n",
       "    </tr>\n",
       "  </thead>\n",
       "  <tbody>\n",
       "    <tr>\n",
       "      <th>0</th>\n",
       "      <td>Credit Card</td>\n",
       "      <td>Takeaway</td>\n",
       "      <td>Coffee</td>\n",
       "    </tr>\n",
       "    <tr>\n",
       "      <th>1</th>\n",
       "      <td>Cash</td>\n",
       "      <td>In-store</td>\n",
       "      <td>Cake</td>\n",
       "    </tr>\n",
       "    <tr>\n",
       "      <th>2</th>\n",
       "      <td>Credit Card</td>\n",
       "      <td>In-store</td>\n",
       "      <td>Cookie</td>\n",
       "    </tr>\n",
       "    <tr>\n",
       "      <th>3</th>\n",
       "      <td>UNKNOWN</td>\n",
       "      <td>UNKNOWN</td>\n",
       "      <td>Salad</td>\n",
       "    </tr>\n",
       "    <tr>\n",
       "      <th>4</th>\n",
       "      <td>Digital Wallet</td>\n",
       "      <td>In-store</td>\n",
       "      <td>Coffee</td>\n",
       "    </tr>\n",
       "  </tbody>\n",
       "</table>\n",
       "</div>"
      ],
      "text/plain": [
       "   Payment Method  Location    Item\n",
       "0     Credit Card  Takeaway  Coffee\n",
       "1            Cash  In-store    Cake\n",
       "2     Credit Card  In-store  Cookie\n",
       "3         UNKNOWN   UNKNOWN   Salad\n",
       "4  Digital Wallet  In-store  Coffee"
      ]
     },
     "execution_count": 531,
     "metadata": {},
     "output_type": "execute_result"
    }
   ],
   "source": [
    "from sklearn.preprocessing import OrdinalEncoder\n",
    "data_oe = data[['Payment Method', 'Location', 'Item']]\n",
    "data_oe.head()"
   ]
  },
  {
   "cell_type": "code",
   "execution_count": 532,
   "id": "99f43e87-1d49-49f9-8d68-8d3efb8b54c8",
   "metadata": {},
   "outputs": [
    {
     "data": {
      "text/plain": [
       "array([['Credit Card', 'Takeaway', 'Coffee'],\n",
       "       ['Cash', 'In-store', 'Cake'],\n",
       "       ['Credit Card', 'In-store', 'Cookie'],\n",
       "       ...,\n",
       "       ['Digital Wallet', 'NA', 'Coffee'],\n",
       "       ['Digital Wallet', 'NA', 'Cookie'],\n",
       "       ['Cash', 'In-store', 'Sandwich']], dtype=object)"
      ]
     },
     "execution_count": 532,
     "metadata": {},
     "output_type": "execute_result"
    }
   ],
   "source": [
    "imp4 = SimpleImputer(missing_values=np.nan, strategy='constant', fill_value='NA')\n",
    "data_oe_filled = imp4.fit_transform(data_oe)\n",
    "data_oe_filled"
   ]
  },
  {
   "cell_type": "code",
   "execution_count": 533,
   "id": "38f987f8-3918-4aff-8bc3-6478e86ae3c7",
   "metadata": {},
   "outputs": [
    {
     "data": {
      "text/plain": [
       "array([[1., 3., 1.],\n",
       "       [0., 1., 0.],\n",
       "       [1., 1., 2.],\n",
       "       ...,\n",
       "       [2., 2., 1.],\n",
       "       [2., 2., 2.],\n",
       "       [0., 1., 7.]])"
      ]
     },
     "execution_count": 533,
     "metadata": {},
     "output_type": "execute_result"
    }
   ],
   "source": [
    "oe = OrdinalEncoder()\n",
    "cat_enc_oe = oe.fit_transform(data_oe_filled)\n",
    "cat_enc_oe"
   ]
  },
  {
   "cell_type": "code",
   "execution_count": 534,
   "id": "707cb80f-b632-441f-b3af-2dab5927792f",
   "metadata": {},
   "outputs": [
    {
     "data": {
      "text/plain": [
       "array([0., 1., 2., 3., 4., 5.])"
      ]
     },
     "execution_count": 534,
     "metadata": {},
     "output_type": "execute_result"
    }
   ],
   "source": [
    "# Уникальные значения 1 признака\n",
    "np.unique(cat_enc_oe[:, 0])"
   ]
  },
  {
   "cell_type": "code",
   "execution_count": 535,
   "id": "71d2e0ca-b22b-47c8-82ae-7a2d64939762",
   "metadata": {},
   "outputs": [
    {
     "data": {
      "text/plain": [
       "array([0., 1., 2., 3., 4.])"
      ]
     },
     "execution_count": 535,
     "metadata": {},
     "output_type": "execute_result"
    }
   ],
   "source": [
    "# Уникальные значения 2 признака\n",
    "np.unique(cat_enc_oe[:, 1])"
   ]
  },
  {
   "cell_type": "code",
   "execution_count": 536,
   "id": "78689efa-e39b-4a24-b10c-2817052ddcd1",
   "metadata": {},
   "outputs": [
    {
     "data": {
      "text/plain": [
       "array([ 0.,  1.,  2.,  3.,  4.,  5.,  6.,  7.,  8.,  9., 10.])"
      ]
     },
     "execution_count": 536,
     "metadata": {},
     "output_type": "execute_result"
    }
   ],
   "source": [
    "# Уникальные значения 2 признака\n",
    "np.unique(cat_enc_oe[:, 2])"
   ]
  },
  {
   "cell_type": "code",
   "execution_count": 537,
   "id": "885ca852-eb2b-403e-9d56-893f69c3cdc6",
   "metadata": {},
   "outputs": [
    {
     "data": {
      "text/plain": [
       "[array(['Cash', 'Credit Card', 'Digital Wallet', 'ERROR', 'NA', 'UNKNOWN'],\n",
       "       dtype=object),\n",
       " array(['ERROR', 'In-store', 'NA', 'Takeaway', 'UNKNOWN'], dtype=object),\n",
       " array(['Cake', 'Coffee', 'Cookie', 'ERROR', 'Juice', 'NA', 'Salad',\n",
       "        'Sandwich', 'Smoothie', 'Tea', 'UNKNOWN'], dtype=object)]"
      ]
     },
     "execution_count": 537,
     "metadata": {},
     "output_type": "execute_result"
    }
   ],
   "source": [
    "# Наименования категорий в соответствии с порядковыми номерами\n",
    "oe.categories_"
   ]
  },
  {
   "cell_type": "code",
   "execution_count": 538,
   "id": "030108d2-0855-4959-b8cb-ccb9bd10436f",
   "metadata": {},
   "outputs": [
    {
     "data": {
      "text/plain": [
       "array([['Credit Card', 'Takeaway', 'Coffee'],\n",
       "       ['Cash', 'In-store', 'Cake'],\n",
       "       ['Credit Card', 'In-store', 'Cookie'],\n",
       "       ...,\n",
       "       ['Digital Wallet', 'NA', 'Coffee'],\n",
       "       ['Digital Wallet', 'NA', 'Cookie'],\n",
       "       ['Cash', 'In-store', 'Sandwich']], dtype=object)"
      ]
     },
     "execution_count": 538,
     "metadata": {},
     "output_type": "execute_result"
    }
   ],
   "source": [
    "# Обратное преобразование\n",
    "oe.inverse_transform(cat_enc_oe)"
   ]
  },
  {
   "cell_type": "markdown",
   "id": "159a16ff-4f83-4860-be84-92ef85b1ec5c",
   "metadata": {},
   "source": [
    "# Масштабирование данных"
   ]
  },
  {
   "cell_type": "code",
   "execution_count": 540,
   "id": "c9758743-b2a1-4abc-90f0-8b6555f7b3dd",
   "metadata": {},
   "outputs": [],
   "source": [
    "from sklearn.preprocessing import MinMaxScaler, StandardScaler, Normalizer"
   ]
  },
  {
   "cell_type": "code",
   "execution_count": null,
   "id": "3e962191-8246-447d-b7ab-4c14f6b52293",
   "metadata": {},
   "outputs": [],
   "source": []
  },
  {
   "cell_type": "markdown",
   "id": "68e73495-8f04-4639-a8fc-8cd94b2d1b0a",
   "metadata": {},
   "source": [
    "# MinMax масштабирование"
   ]
  },
  {
   "cell_type": "code",
   "execution_count": null,
   "id": "2dd29e6f-f2b8-4d81-a1d9-44c5e79641d1",
   "metadata": {},
   "outputs": [],
   "source": []
  },
  {
   "cell_type": "code",
   "execution_count": null,
   "id": "4ee13348-b437-4ba7-b817-752a72069f75",
   "metadata": {},
   "outputs": [],
   "source": []
  },
  {
   "cell_type": "code",
   "execution_count": 542,
   "id": "4cf03ed3-97b7-467d-917a-3d7891e6dd30",
   "metadata": {},
   "outputs": [],
   "source": [
    "# Используется для приведения значений признаков (или столбцов) к единому диапазону\n",
    "sc1 = MinMaxScaler()\n",
    "data['Total Spent'] = pd.to_numeric(data['Total Spent'], errors='coerce')\n",
    "sc1_data = sc1.fit_transform(data[['Total Spent']])"
   ]
  },
  {
   "cell_type": "code",
   "execution_count": 543,
   "id": "6a5d9e60-ed39-4d9c-a006-7a0ec6e81e87",
   "metadata": {},
   "outputs": [
    {
     "data": {
      "image/png": "[encoded data removed]",
      "text/plain": [
       "<Figure size 640x480 with 1 Axes>"
      ]
     },
     "metadata": {},
     "output_type": "display_data"
    }
   ],
   "source": [
    "plt.hist(data['Total Spent'], 30)\n",
    "plt.show()"
   ]
  },
  {
   "cell_type": "code",
   "execution_count": 544,
   "id": "f5196b70-9fc0-4936-941c-2a25552afcfb",
   "metadata": {},
   "outputs": [
    {
     "data": {
      "image/png": "[encoded data removed]",
      "text/plain": [
       "<Figure size 640x480 with 1 Axes>"
      ]
     },
     "metadata": {},
     "output_type": "display_data"
    }
   ],
   "source": [
    "plt.hist(sc1_data, 30)\n",
    "plt.show()"
   ]
  },
  {
   "cell_type": "code",
   "execution_count": 545,
   "id": "8517b255-ba97-4de5-9326-60e5d4741af0",
   "metadata": {},
   "outputs": [],
   "source": [
    "# В отличие от Минмакс масштабирования, которое приводит все значения к одному фиксированному диапазону (обычно от 0 до 1), \n",
    "# стандартизация использует статистику данных, а именно среднее и стандартное отклонение.\n",
    "sc2 = StandardScaler()\n",
    "sc2_data = sc2.fit_transform(data[['Total Spent']])\n",
    "\n",
    "\n"
   ]
  },
  {
   "cell_type": "code",
   "execution_count": 546,
   "id": "8d9ec84f-21ca-4950-89a7-7707df13f9f2",
   "metadata": {},
   "outputs": [
    {
     "data": {
      "image/png": "[encoded data removed]",
      "text/plain": [
       "<Figure size 640x480 with 1 Axes>"
      ]
     },
     "metadata": {},
     "output_type": "display_data"
    }
   ],
   "source": [
    "plt.hist(sc2_data, 30)\n",
    "plt.show()"
   ]
  },
  {
   "cell_type": "code",
   "execution_count": null,
   "id": "7e7098ef-107c-4ab0-9ce4-27615be46e8f",
   "metadata": {},
   "outputs": [],
   "source": []
  }
 ],
 "metadata": {
  "kernelspec": {
   "display_name": "Python [conda env:base] *",
   "language": "python",
   "name": "conda-base-py"
  },
  "language_info": {
   "codemirror_mode": {
    "name": "ipython",
    "version": 3
   },
   "file_extension": ".py",
   "mimetype": "text/x-python",
   "name": "python",
   "nbconvert_exporter": "python",
   "pygments_lexer": "ipython3",
   "version": "3.12.7"
  }
 },
 "nbformat": 4,
 "nbformat_minor": 5
}
