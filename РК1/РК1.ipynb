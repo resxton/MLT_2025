{
  "nbformat": 4,
  "nbformat_minor": 0,
  "metadata": {
    "colab": {
      "provenance": []
    },
    "kernelspec": {
      "name": "python3",
      "display_name": "Python 3"
    },
    "language_info": {
      "name": "python"
    }
  },
  "cells": [
    {
      "cell_type": "code",
      "execution_count": null,
      "metadata": {
        "id": "xVrHqeFTpEI-"
      },
      "outputs": [],
      "source": [
        "import pandas as pd\n",
        "import numpy as np\n",
        "import matplotlib.pyplot as plt\n",
        "import seaborn as sns\n",
        "import kagglehub"
      ]
    },
    {
      "cell_type": "code",
      "source": [
        "path = kagglehub.dataset_download(\"mohansacharya/graduate-admissions\")\n",
        "df = pd.read_csv(f\"{path}/Admission_Predict.csv\")"
      ],
      "metadata": {
        "id": "m52CLEfHpK8a"
      },
      "execution_count": null,
      "outputs": []
    },
    {
      "cell_type": "code",
      "source": [
        "print(df.head())\n",
        "print(df.info())\n",
        "print(df.isnull().sum())"
      ],
      "metadata": {
        "colab": {
          "base_uri": "https://localhost:8080/"
        },
        "id": "kp6EcabNpZvy",
        "outputId": "98891378-aeb8-4e21-ed0a-a10ba8c05259"
      },
      "execution_count": null,
      "outputs": [
        {
          "output_type": "stream",
          "name": "stdout",
          "text": [
            "   Serial No.  GRE Score  TOEFL Score  University Rating  SOP  LOR   CGPA  \\\n",
            "0           1        337          118                  4  4.5   4.5  9.65   \n",
            "1           2        324          107                  4  4.0   4.5  8.87   \n",
            "2           3        316          104                  3  3.0   3.5  8.00   \n",
            "3           4        322          110                  3  3.5   2.5  8.67   \n",
            "4           5        314          103                  2  2.0   3.0  8.21   \n",
            "\n",
            "   Research  Chance of Admit   \n",
            "0         1              0.92  \n",
            "1         1              0.76  \n",
            "2         1              0.72  \n",
            "3         1              0.80  \n",
            "4         0              0.65  \n",
            "<class 'pandas.core.frame.DataFrame'>\n",
            "RangeIndex: 400 entries, 0 to 399\n",
            "Data columns (total 9 columns):\n",
            " #   Column             Non-Null Count  Dtype  \n",
            "---  ------             --------------  -----  \n",
            " 0   Serial No.         400 non-null    int64  \n",
            " 1   GRE Score          400 non-null    int64  \n",
            " 2   TOEFL Score        400 non-null    int64  \n",
            " 3   University Rating  400 non-null    int64  \n",
            " 4   SOP                400 non-null    float64\n",
            " 5   LOR                400 non-null    float64\n",
            " 6   CGPA               400 non-null    float64\n",
            " 7   Research           400 non-null    int64  \n",
            " 8   Chance of Admit    400 non-null    float64\n",
            "dtypes: float64(4), int64(5)\n",
            "memory usage: 28.3 KB\n",
            "None\n",
            "Serial No.           0\n",
            "GRE Score            0\n",
            "TOEFL Score          0\n",
            "University Rating    0\n",
            "SOP                  0\n",
            "LOR                  0\n",
            "CGPA                 0\n",
            "Research             0\n",
            "Chance of Admit      0\n",
            "dtype: int64\n"
          ]
        }
      ]
    },
    {
      "cell_type": "code",
      "source": [
        "# Добавим 5 случайных пропусков в Research (категориальный)\n",
        "df.loc[df.sample(5, random_state=13).index, 'Research'] = np.nan\n",
        "\n",
        "# Добавим 5 случайных пропусков в CGPA (количественный)\n",
        "df.loc[df.sample(5, random_state=31).index, 'CGPA'] = np.nan\n",
        "\n",
        "# Проверим пропуски\n",
        "print(df[['Research', 'CGPA']].isnull().sum())"
      ],
      "metadata": {
        "colab": {
          "base_uri": "https://localhost:8080/"
        },
        "id": "DoWFpOeUp_z7",
        "outputId": "57de443b-dc46-4dd4-ad68-da66d2d9a496"
      },
      "execution_count": null,
      "outputs": [
        {
          "output_type": "stream",
          "name": "stdout",
          "text": [
            "Research    5\n",
            "CGPA        5\n",
            "dtype: int64\n"
          ]
        }
      ]
    },
    {
      "cell_type": "markdown",
      "source": [
        "Категориальный признак: Research\n",
        "\n",
        "Метод: заполнение модой (наиболее частым значением)"
      ],
      "metadata": {
        "id": "qUK8QGg2qFvO"
      }
    },
    {
      "cell_type": "code",
      "source": [
        "df['Research'].fillna(df['Research'].mode()[0], inplace=True)"
      ],
      "metadata": {
        "colab": {
          "base_uri": "https://localhost:8080/"
        },
        "id": "Ysobl9WeqCDD",
        "outputId": "45acddc6-0da4-4f24-dd06-73247b4662c8"
      },
      "execution_count": null,
      "outputs": [
        {
          "output_type": "stream",
          "name": "stderr",
          "text": [
            "<ipython-input-12-12634f5a11b5>:1: FutureWarning: A value is trying to be set on a copy of a DataFrame or Series through chained assignment using an inplace method.\n",
            "The behavior will change in pandas 3.0. This inplace method will never work because the intermediate object on which we are setting values always behaves as a copy.\n",
            "\n",
            "For example, when doing 'df[col].method(value, inplace=True)', try using 'df.method({col: value}, inplace=True)' or df[col] = df[col].method(value) instead, to perform the operation inplace on the original object.\n",
            "\n",
            "\n",
            "  df['Research'].fillna(df['Research'].mode()[0], inplace=True)\n"
          ]
        }
      ]
    },
    {
      "cell_type": "markdown",
      "source": [
        "Количественный признак: CGPA\n",
        "\n",
        "Метод: заполнение медианой\n",
        "Почему не средним? — Медиана менее чувствительна к выбросам."
      ],
      "metadata": {
        "id": "TkfABiHVqJwV"
      }
    },
    {
      "cell_type": "code",
      "source": [
        "df['CGPA'].fillna(df['CGPA'].median(), inplace=True)"
      ],
      "metadata": {
        "colab": {
          "base_uri": "https://localhost:8080/"
        },
        "id": "ME1kg8NDqGgH",
        "outputId": "601d8196-c733-4aea-94ff-552bd7f47cfa"
      },
      "execution_count": null,
      "outputs": [
        {
          "output_type": "stream",
          "name": "stderr",
          "text": [
            "<ipython-input-13-38e5e9234d63>:1: FutureWarning: A value is trying to be set on a copy of a DataFrame or Series through chained assignment using an inplace method.\n",
            "The behavior will change in pandas 3.0. This inplace method will never work because the intermediate object on which we are setting values always behaves as a copy.\n",
            "\n",
            "For example, when doing 'df[col].method(value, inplace=True)', try using 'df.method({col: value}, inplace=True)' or df[col] = df[col].method(value) instead, to perform the operation inplace on the original object.\n",
            "\n",
            "\n",
            "  df['CGPA'].fillna(df['CGPA'].median(), inplace=True)\n"
          ]
        }
      ]
    },
    {
      "cell_type": "code",
      "source": [
        "features = df.drop(columns=[\"Serial No.\", \"Chance of Admit \"])  # убираем идентификатор и целевую переменную\n",
        "target = df[\"Chance of Admit \"]\n",
        "\n",
        "print(\"Признаки для модели:\", list(features.columns))\n"
      ],
      "metadata": {
        "colab": {
          "base_uri": "https://localhost:8080/"
        },
        "id": "kMienzPxqMU6",
        "outputId": "c4266963-0585-4265-c2f1-e3d8554f386a"
      },
      "execution_count": null,
      "outputs": [
        {
          "output_type": "stream",
          "name": "stdout",
          "text": [
            "Признаки для модели: ['GRE Score', 'TOEFL Score', 'University Rating', 'SOP', 'LOR ', 'CGPA', 'Research']\n"
          ]
        }
      ]
    },
    {
      "cell_type": "markdown",
      "source": [
        "### Какие способы обработки пропусков в данных для категориальных и количественных признаков Вы использовали?\n",
        "\n",
        "* Для **категориального признака** `Research` пропуски были заполнены **наиболее частым значением (модой)**. Такой метод помогает сохранить распределение категорий и не вводит искажений, которые могут возникнуть при заполнении случайными или средними значениями.\n",
        "\n",
        "* Для **количественного признака** `CGPA` пропуски заполнил **медианой** признака, так как медиана менее чувствительна к выбросам и лучше отражает центральную тенденцию, чем среднее значение.\n",
        "\n",
        "---\n",
        "\n",
        "### Какие признаки Вы будете использовать для дальнейшего построения моделей машинного обучения и почему?\n",
        "\n",
        "* Для построения моделей были выбраны **все признаки, кроме идентификатора** `Serial No.`, так как идентификатор не несёт полезной информации для предсказания и может ввести модель в заблуждение.\n",
        "\n",
        "* Использование всех остальных признаков обосновано тем, что они содержат важную информацию, влияющую на целевую переменную `Chance of Admit`.\n"
      ],
      "metadata": {
        "id": "G45j7VvXs_65"
      }
    }
  ]
}